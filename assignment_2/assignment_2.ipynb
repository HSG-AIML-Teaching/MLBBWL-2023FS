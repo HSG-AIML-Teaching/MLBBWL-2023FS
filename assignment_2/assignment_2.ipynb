{
 "cells": [
  {
   "attachments": {},
   "cell_type": "markdown",
   "metadata": {},
   "source": [
    "# Assignment 2 - Unsupervised Learning\n",
    "\n",
    "Machine Learning (BBWL), Michael Mommert, FS2023, University of St. Gallen"
   ]
  },
  {
   "attachments": {},
   "cell_type": "markdown",
   "metadata": {},
   "source": [
    "The **goal** of this assignment is to perform clustering on **two separate datasets**: `blobs` contains a number of Gaussian clusters, wheres `moon` contains two crescent-shaped clusters that are intertwined. Both datasets are two-dimensional and contain different numbers of samples.\n",
    "\n",
    "Your **objectives** are the following:\n",
    "* Visualize both datasets.\n",
    "* Implement at least one clustering method to identify clusters in the `blobs` dataset; how many different clusters are there in the dataset?\n",
    "* Implement at least one clustering method that separates the vast majority of samples from the two crescent-shaped clusters in the `moons` dataset.\n",
    "* For each dataset, visualize the resulting clusters by plotting samples belonging to different clusters in different clusters.\n",
    "\n",
    "This assignment will be **graded** based on:\n",
    "* whether these objectives have been achieved;\n",
    "* whether the solution follows best practices;\n",
    "* how well the approach is documented (e.g., using text cells, plots, etc.);\n",
    "* how clean the code is.\n",
    "\n",
    "There are no restrictions on the resources that you can use -- collaborating on assignments is allowed -- but students are not allowed to submit identical code.\n",
    "\n",
    "Please submit your runnable Notebook to [michael.mommert@unisg.ch](mailto:michael.mommert@unisg.ch) **before 16 April 2023, 23:59**. Please include your name in the Notebook filename.\n",
    "\n",
    "-----"
   ]
  },
  {
   "attachments": {},
   "cell_type": "markdown",
   "metadata": {},
   "source": [
    "The following code cell will import the dataset used in this assignment. Please do not modify this code cell."
   ]
  },
  {
   "cell_type": "code",
   "execution_count": 3,
   "metadata": {},
   "outputs": [],
   "source": [
    "import numpy as np\n",
    "from urllib.request import urlopen\n",
    "from io import BytesIO\n",
    "\n",
    "# load data as binary npy file\n",
    "blobs = np.load(BytesIO(urlopen(\"https://raw.githubusercontent.com/HSG-AIML-Teaching/MLBBWL-2023FS/main/assignment_2/blobs.npy\").read()))\n",
    "moons = np.load(BytesIO(urlopen(\"https://raw.githubusercontent.com/HSG-AIML-Teaching/MLBBWL-2023FS/main/assignment_2/moons.npy\").read()))"
   ]
  },
  {
   "attachments": {},
   "cell_type": "markdown",
   "metadata": {},
   "source": [
    "# Dataset visualization"
   ]
  },
  {
   "cell_type": "code",
   "execution_count": null,
   "metadata": {},
   "outputs": [],
   "source": [
    "# add your code here..."
   ]
  },
  {
   "attachments": {},
   "cell_type": "markdown",
   "metadata": {},
   "source": [
    "# Clustering on `blobs`"
   ]
  },
  {
   "cell_type": "code",
   "execution_count": null,
   "metadata": {},
   "outputs": [],
   "source": [
    "# add your code here..."
   ]
  },
  {
   "attachments": {},
   "cell_type": "markdown",
   "metadata": {},
   "source": [
    "# Clustering on `moons`"
   ]
  },
  {
   "cell_type": "code",
   "execution_count": null,
   "metadata": {},
   "outputs": [],
   "source": [
    "# add your code here..."
   ]
  }
 ],
 "metadata": {
  "kernelspec": {
   "display_name": "base",
   "language": "python",
   "name": "python3"
  },
  "language_info": {
   "codemirror_mode": {
    "name": "ipython",
    "version": 3
   },
   "file_extension": ".py",
   "mimetype": "text/x-python",
   "name": "python",
   "nbconvert_exporter": "python",
   "pygments_lexer": "ipython3",
   "version": "3.9.12"
  },
  "orig_nbformat": 4
 },
 "nbformat": 4,
 "nbformat_minor": 2
}
