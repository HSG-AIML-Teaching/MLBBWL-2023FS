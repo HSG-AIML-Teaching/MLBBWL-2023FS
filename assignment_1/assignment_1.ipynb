{
 "cells": [
  {
   "attachments": {},
   "cell_type": "markdown",
   "metadata": {},
   "source": [
    "# Assignment 1\n",
    "\n",
    "Machine Learning (BBWL), Michael Mommert, FS2023, University of St. Gallen"
   ]
  },
  {
   "attachments": {},
   "cell_type": "markdown",
   "metadata": {},
   "source": [
    "The **goal** of this assignment is to implement a $k$-Nearest Neighbor (kNN) classifier that performs classification on the accompanied dataset. The dataset is 5-dimensional and consists of numerical features, only. Each datapoint belongs to either of three classes. Train a kNN classifier in such a way as to maximize its performance and to generalize well.\n",
    "\n",
    "The general **objectives** are:\n",
    "* to implement the ML pipeline using *scikit-learn* as discussed in the lecture and the lab course, following best practices;\n",
    "* to properly perform hyperparameter tuning from which clearly follows which value of $k$ has been chosen and why;\n",
    "* to compare the performance of the best trained model on the training, validation and test datasets, preventing both overfitting and underfitting.\n",
    "\n",
    "This assignment will be **graded** based on:\n",
    "* whether these objectives have been achieved;\n",
    "* whether the solution follows best practices;\n",
    "* how well the approach is documented (e.g., using text cells, plots, etc.);\n",
    "* how clean the code is;\n",
    "* the performance of the trained model.\n",
    "\n",
    "There are no restrictions on the resources that you can use -- collaborating on assignments is allowed -- but students are not allowed to submit identical code.\n",
    "\n",
    "Please submit your runnable Notebook to [michael.mommert@unisg.ch](mailto:michael.mommert@unisg.ch) **before 26 March 2023, 23:59**. Please include your name in the Notebook filename.\n",
    "\n",
    "-----"
   ]
  },
  {
   "attachments": {},
   "cell_type": "markdown",
   "metadata": {},
   "source": [
    "The following code cell will import the dataset used in this assignment. Please do not modify this code cell."
   ]
  },
  {
   "cell_type": "code",
   "execution_count": 14,
   "metadata": {},
   "outputs": [
    {
     "data": {
      "text/plain": [
       "((2000, 5), (2000,))"
      ]
     },
     "execution_count": 14,
     "metadata": {},
     "output_type": "execute_result"
    }
   ],
   "source": [
    "import numpy as np\n",
    "from urllib.request import urlopen\n",
    "from io import BytesIO\n",
    "\n",
    "# load data as binary npy file\n",
    "raw_data = np.load(BytesIO(urlopen(\"https://raw.githubusercontent.com/HSG-AIML-Teaching/MLBBWL-2023FS/main/assignment_1/data.npy\").read()))\n",
    "\n",
    "x = raw_data[:,:5]  # this is your input data\n",
    "y = raw_data[:, 5]  # this is your target vector\n",
    "\n",
    "x.shape, y.shape"
   ]
  },
  {
   "attachments": {},
   "cell_type": "markdown",
   "metadata": {},
   "source": [
    "Please add your code in the following ... Good Luck!"
   ]
  },
  {
   "cell_type": "code",
   "execution_count": null,
   "metadata": {},
   "outputs": [],
   "source": []
  }
 ],
 "metadata": {
  "kernelspec": {
   "display_name": "base",
   "language": "python",
   "name": "python3"
  },
  "language_info": {
   "codemirror_mode": {
    "name": "ipython",
    "version": 3
   },
   "file_extension": ".py",
   "mimetype": "text/x-python",
   "name": "python",
   "nbconvert_exporter": "python",
   "pygments_lexer": "ipython3",
   "version": "3.9.12"
  },
  "orig_nbformat": 4
 },
 "nbformat": 4,
 "nbformat_minor": 2
}
